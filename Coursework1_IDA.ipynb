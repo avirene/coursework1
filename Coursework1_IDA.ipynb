{
 "cells": [
  {
   "cell_type": "code",
   "execution_count": 136,
   "id": "70249337-988a-4d77-a7b7-c75cbb80faf0",
   "metadata": {},
   "outputs": [],
   "source": [
    "import numpy as np"
   ]
  },
  {
   "cell_type": "code",
   "execution_count": 138,
   "id": "1a82b371-c333-49f0-9f82-be6207091808",
   "metadata": {},
   "outputs": [],
   "source": [
    "import pandas as pd"
   ]
  },
  {
   "cell_type": "code",
   "execution_count": 140,
   "id": "0f0fa12f-fe0a-4aeb-8285-da3d46a043a6",
   "metadata": {},
   "outputs": [
    {
     "name": "stderr",
     "output_type": "stream",
     "text": [
      "/var/folders/k7/ydy64qp95hd058cgvcdl7msc0000gp/T/ipykernel_62451/4083395371.py:1: DtypeWarning: Columns (1,18) have mixed types. Specify dtype option on import or set low_memory=False.\n",
      "  df = pd.read_csv(\"Crime_Dataset_Coursework1.csv\")\n"
     ]
    }
   ],
   "source": [
    "df = pd.read_csv(\"Crime_Dataset_Coursework1.csv\")"
   ]
  },
  {
   "cell_type": "markdown",
   "id": "ac884c66-6357-4fe1-9d29-a17b54072575",
   "metadata": {},
   "source": [
    "# Check for Duplicates"
   ]
  },
  {
   "cell_type": "code",
   "execution_count": 142,
   "id": "e819d4ca-c526-4767-bd43-7ea99f0b34a7",
   "metadata": {},
   "outputs": [],
   "source": [
    "df_dupl = df.duplicated()"
   ]
  },
  {
   "cell_type": "code",
   "execution_count": 181,
   "id": "1a61e5b4-e09a-4378-a96b-7b016f57e4e6",
   "metadata": {},
   "outputs": [
    {
     "data": {
      "text/plain": [
       "False    306094\n",
       "Name: count, dtype: int64"
      ]
     },
     "execution_count": 181,
     "metadata": {},
     "output_type": "execute_result"
    }
   ],
   "source": [
    "df_dupl.value_counts()"
   ]
  },
  {
   "cell_type": "markdown",
   "id": "631aadd3-0e5c-4bb0-97ce-24358f42159e",
   "metadata": {},
   "source": [
    "# Check for missing values"
   ]
  },
  {
   "cell_type": "code",
   "execution_count": 146,
   "id": "71310b9f-11f9-4570-afcb-2dd486677ed7",
   "metadata": {},
   "outputs": [
    {
     "data": {
      "text/plain": [
       "Incident ID                    0\n",
       "Offence Code                   0\n",
       "CR Number                      0\n",
       "Dispatch Date / Time       49029\n",
       "NIBRS Code                     0\n",
       "Victims                        0\n",
       "Crime Name1                  272\n",
       "Crime Name2                  272\n",
       "Crime Name3                  272\n",
       "Police District Name          94\n",
       "Block Address              26206\n",
       "City                        1276\n",
       "State                          0\n",
       "Zip Code                    3179\n",
       "Agency                         0\n",
       "Place                          0\n",
       "Sector                      1530\n",
       "Beat                        1530\n",
       "PRA                          239\n",
       "Address Number             26109\n",
       "Street Prefix             292463\n",
       "Street Name                    1\n",
       "Street Suffix             300662\n",
       "Street Type                  339\n",
       "Start_Date_Time                0\n",
       "End_Date_Time             161658\n",
       "Latitude                       0\n",
       "Longitude                      0\n",
       "Police District Number         0\n",
       "Location                       0\n",
       "dtype: int64"
      ]
     },
     "execution_count": 146,
     "metadata": {},
     "output_type": "execute_result"
    }
   ],
   "source": [
    "df.isna().sum()"
   ]
  },
  {
   "cell_type": "code",
   "execution_count": 148,
   "id": "a5bbbfd4-c973-4e2c-8531-0bbdf7423f85",
   "metadata": {},
   "outputs": [
    {
     "data": {
      "text/plain": [
       "Incident ID                 int64\n",
       "Offence Code               object\n",
       "CR Number                   int64\n",
       "Dispatch Date / Time       object\n",
       "NIBRS Code                 object\n",
       "Victims                     int64\n",
       "Crime Name1                object\n",
       "Crime Name2                object\n",
       "Crime Name3                object\n",
       "Police District Name       object\n",
       "Block Address              object\n",
       "City                       object\n",
       "State                      object\n",
       "Zip Code                  float64\n",
       "Agency                     object\n",
       "Place                      object\n",
       "Sector                     object\n",
       "Beat                       object\n",
       "PRA                        object\n",
       "Address Number            float64\n",
       "Street Prefix              object\n",
       "Street Name                object\n",
       "Street Suffix              object\n",
       "Street Type                object\n",
       "Start_Date_Time            object\n",
       "End_Date_Time              object\n",
       "Latitude                  float64\n",
       "Longitude                 float64\n",
       "Police District Number     object\n",
       "Location                   object\n",
       "dtype: object"
      ]
     },
     "execution_count": 148,
     "metadata": {},
     "output_type": "execute_result"
    }
   ],
   "source": [
    "df.dtypes"
   ]
  },
  {
   "cell_type": "code",
   "execution_count": 150,
   "id": "07ebc923-89e5-4b31-ad2a-19452003b29a",
   "metadata": {},
   "outputs": [
    {
     "data": {
      "text/plain": [
       "'07/24/2021 05:27:00 AM'"
      ]
     },
     "execution_count": 150,
     "metadata": {},
     "output_type": "execute_result"
    }
   ],
   "source": [
    "df[\"Start_Date_Time\"].loc[20000]"
   ]
  },
  {
   "cell_type": "markdown",
   "id": "d971f9a3-df34-4c23-8f00-51e95a5e96c1",
   "metadata": {},
   "source": [
    "# Change Data Types to Datetime"
   ]
  },
  {
   "cell_type": "code",
   "execution_count": 152,
   "id": "99cc6289-f5c4-4dad-9e4e-e7e888d6b7a6",
   "metadata": {},
   "outputs": [
    {
     "name": "stderr",
     "output_type": "stream",
     "text": [
      "/var/folders/k7/ydy64qp95hd058cgvcdl7msc0000gp/T/ipykernel_62451/4191208974.py:1: UserWarning: Could not infer format, so each element will be parsed individually, falling back to `dateutil`. To ensure parsing is consistent and as-expected, please specify a format.\n",
      "  df['Dispatch Date / Time'] = pd.to_datetime(df['Dispatch Date / Time'])\n",
      "/var/folders/k7/ydy64qp95hd058cgvcdl7msc0000gp/T/ipykernel_62451/4191208974.py:2: UserWarning: Could not infer format, so each element will be parsed individually, falling back to `dateutil`. To ensure parsing is consistent and as-expected, please specify a format.\n",
      "  df['Start_Date_Time'] = pd.to_datetime(df['Start_Date_Time'])\n"
     ]
    }
   ],
   "source": [
    "df['Dispatch Date / Time'] = pd.to_datetime(df['Dispatch Date / Time'])\n",
    "df['Start_Date_Time'] = pd.to_datetime(df['Start_Date_Time'])"
   ]
  },
  {
   "cell_type": "code",
   "execution_count": 154,
   "id": "430faf9f-b478-4e81-ab43-16e645d98dfa",
   "metadata": {},
   "outputs": [
    {
     "data": {
      "text/html": [
       "<div>\n",
       "<style scoped>\n",
       "    .dataframe tbody tr th:only-of-type {\n",
       "        vertical-align: middle;\n",
       "    }\n",
       "\n",
       "    .dataframe tbody tr th {\n",
       "        vertical-align: top;\n",
       "    }\n",
       "\n",
       "    .dataframe thead th {\n",
       "        text-align: right;\n",
       "    }\n",
       "</style>\n",
       "<table border=\"1\" class=\"dataframe\">\n",
       "  <thead>\n",
       "    <tr style=\"text-align: right;\">\n",
       "      <th></th>\n",
       "      <th>Incident ID</th>\n",
       "      <th>Offence Code</th>\n",
       "      <th>CR Number</th>\n",
       "      <th>Dispatch Date / Time</th>\n",
       "      <th>NIBRS Code</th>\n",
       "      <th>Victims</th>\n",
       "      <th>Crime Name1</th>\n",
       "      <th>Crime Name2</th>\n",
       "      <th>Crime Name3</th>\n",
       "      <th>Police District Name</th>\n",
       "      <th>...</th>\n",
       "      <th>Street Prefix</th>\n",
       "      <th>Street Name</th>\n",
       "      <th>Street Suffix</th>\n",
       "      <th>Street Type</th>\n",
       "      <th>Start_Date_Time</th>\n",
       "      <th>End_Date_Time</th>\n",
       "      <th>Latitude</th>\n",
       "      <th>Longitude</th>\n",
       "      <th>Police District Number</th>\n",
       "      <th>Location</th>\n",
       "    </tr>\n",
       "  </thead>\n",
       "  <tbody>\n",
       "    <tr>\n",
       "      <th>0</th>\n",
       "      <td>201202980</td>\n",
       "      <td>3550</td>\n",
       "      <td>180042096</td>\n",
       "      <td>2018-08-23 21:52:08</td>\n",
       "      <td>35B</td>\n",
       "      <td>1</td>\n",
       "      <td>Crime Against Society</td>\n",
       "      <td>Drug Equipment Violations</td>\n",
       "      <td>DRUGS - NARCOTIC EQUIP - POSSESS</td>\n",
       "      <td>GERMANTOWN</td>\n",
       "      <td>...</td>\n",
       "      <td>NaN</td>\n",
       "      <td>MIDDLEBROOK</td>\n",
       "      <td>NaN</td>\n",
       "      <td>RD</td>\n",
       "      <td>2018-08-23 21:52:00</td>\n",
       "      <td>NaN</td>\n",
       "      <td>39.177744</td>\n",
       "      <td>-77.265619</td>\n",
       "      <td>5D</td>\n",
       "      <td>(39.1777, -77.2656)</td>\n",
       "    </tr>\n",
       "    <tr>\n",
       "      <th>1</th>\n",
       "      <td>201181293</td>\n",
       "      <td>3522</td>\n",
       "      <td>180015424</td>\n",
       "      <td>2018-03-30 01:00:55</td>\n",
       "      <td>35A</td>\n",
       "      <td>1</td>\n",
       "      <td>Crime Against Society</td>\n",
       "      <td>Drug/Narcotic Violations</td>\n",
       "      <td>DRUGS - OPIUM OR DERIVATIVE - POSSESS</td>\n",
       "      <td>BETHESDA</td>\n",
       "      <td>...</td>\n",
       "      <td>NaN</td>\n",
       "      <td>WOODMONT</td>\n",
       "      <td>NaN</td>\n",
       "      <td>AVE</td>\n",
       "      <td>2018-03-30 01:01:00</td>\n",
       "      <td>NaN</td>\n",
       "      <td>38.992693</td>\n",
       "      <td>-77.097063</td>\n",
       "      <td>2D</td>\n",
       "      <td>(38.9927, -77.0971)</td>\n",
       "    </tr>\n",
       "    <tr>\n",
       "      <th>2</th>\n",
       "      <td>201181293</td>\n",
       "      <td>3562</td>\n",
       "      <td>180015424</td>\n",
       "      <td>2018-03-30 01:00:55</td>\n",
       "      <td>35A</td>\n",
       "      <td>1</td>\n",
       "      <td>Crime Against Society</td>\n",
       "      <td>Drug/Narcotic Violations</td>\n",
       "      <td>DRUGS - MARIJUANA - POSSESS</td>\n",
       "      <td>BETHESDA</td>\n",
       "      <td>...</td>\n",
       "      <td>NaN</td>\n",
       "      <td>WOODMONT</td>\n",
       "      <td>NaN</td>\n",
       "      <td>AVE</td>\n",
       "      <td>2018-03-30 01:01:00</td>\n",
       "      <td>NaN</td>\n",
       "      <td>38.992693</td>\n",
       "      <td>-77.097063</td>\n",
       "      <td>2D</td>\n",
       "      <td>(38.9927, -77.0971)</td>\n",
       "    </tr>\n",
       "    <tr>\n",
       "      <th>3</th>\n",
       "      <td>201193163</td>\n",
       "      <td>3520</td>\n",
       "      <td>180029476</td>\n",
       "      <td>2018-06-14 22:26:45</td>\n",
       "      <td>35A</td>\n",
       "      <td>1</td>\n",
       "      <td>Crime Against Society</td>\n",
       "      <td>Drug/Narcotic Violations</td>\n",
       "      <td>DRUGS - OPIUM OR DERIVATIVE - SELL</td>\n",
       "      <td>MONTGOMERY VILLAGE</td>\n",
       "      <td>...</td>\n",
       "      <td>NaN</td>\n",
       "      <td>QUINCE ORCHARD</td>\n",
       "      <td>NaN</td>\n",
       "      <td>RD</td>\n",
       "      <td>2018-06-14 22:26:00</td>\n",
       "      <td>06/15/2018 03:00:00 AM</td>\n",
       "      <td>39.147954</td>\n",
       "      <td>-77.218189</td>\n",
       "      <td>6D</td>\n",
       "      <td>(39.148, -77.2182)</td>\n",
       "    </tr>\n",
       "    <tr>\n",
       "      <th>4</th>\n",
       "      <td>201204355</td>\n",
       "      <td>2204</td>\n",
       "      <td>180043926</td>\n",
       "      <td>2018-09-03 12:06:54</td>\n",
       "      <td>220</td>\n",
       "      <td>1</td>\n",
       "      <td>Crime Against Property</td>\n",
       "      <td>Burglary/Breaking and Entering</td>\n",
       "      <td>BURGLARY - NO FORCED ENTRY-RESIDENTIAL</td>\n",
       "      <td>BETHESDA</td>\n",
       "      <td>...</td>\n",
       "      <td>NaN</td>\n",
       "      <td>FALSTONE</td>\n",
       "      <td>NaN</td>\n",
       "      <td>AVE</td>\n",
       "      <td>2018-09-02 23:30:00</td>\n",
       "      <td>09/03/2018 12:30:00 AM</td>\n",
       "      <td>38.966174</td>\n",
       "      <td>-77.096561</td>\n",
       "      <td>2D</td>\n",
       "      <td>(38.9662, -77.0966)</td>\n",
       "    </tr>\n",
       "  </tbody>\n",
       "</table>\n",
       "<p>5 rows × 30 columns</p>\n",
       "</div>"
      ],
      "text/plain": [
       "   Incident ID Offence Code  CR Number Dispatch Date / Time NIBRS Code  \\\n",
       "0    201202980         3550  180042096  2018-08-23 21:52:08        35B   \n",
       "1    201181293         3522  180015424  2018-03-30 01:00:55        35A   \n",
       "2    201181293         3562  180015424  2018-03-30 01:00:55        35A   \n",
       "3    201193163         3520  180029476  2018-06-14 22:26:45        35A   \n",
       "4    201204355         2204  180043926  2018-09-03 12:06:54        220   \n",
       "\n",
       "   Victims             Crime Name1                     Crime Name2  \\\n",
       "0        1   Crime Against Society       Drug Equipment Violations   \n",
       "1        1   Crime Against Society        Drug/Narcotic Violations   \n",
       "2        1   Crime Against Society        Drug/Narcotic Violations   \n",
       "3        1   Crime Against Society        Drug/Narcotic Violations   \n",
       "4        1  Crime Against Property  Burglary/Breaking and Entering   \n",
       "\n",
       "                              Crime Name3 Police District Name  ...  \\\n",
       "0        DRUGS - NARCOTIC EQUIP - POSSESS           GERMANTOWN  ...   \n",
       "1   DRUGS - OPIUM OR DERIVATIVE - POSSESS             BETHESDA  ...   \n",
       "2             DRUGS - MARIJUANA - POSSESS             BETHESDA  ...   \n",
       "3      DRUGS - OPIUM OR DERIVATIVE - SELL   MONTGOMERY VILLAGE  ...   \n",
       "4  BURGLARY - NO FORCED ENTRY-RESIDENTIAL             BETHESDA  ...   \n",
       "\n",
       "  Street Prefix     Street Name Street Suffix  Street Type  \\\n",
       "0           NaN     MIDDLEBROOK           NaN           RD   \n",
       "1           NaN        WOODMONT           NaN          AVE   \n",
       "2           NaN        WOODMONT           NaN          AVE   \n",
       "3           NaN  QUINCE ORCHARD           NaN           RD   \n",
       "4           NaN        FALSTONE           NaN          AVE   \n",
       "\n",
       "      Start_Date_Time           End_Date_Time   Latitude  Longitude  \\\n",
       "0 2018-08-23 21:52:00                     NaN  39.177744 -77.265619   \n",
       "1 2018-03-30 01:01:00                     NaN  38.992693 -77.097063   \n",
       "2 2018-03-30 01:01:00                     NaN  38.992693 -77.097063   \n",
       "3 2018-06-14 22:26:00  06/15/2018 03:00:00 AM  39.147954 -77.218189   \n",
       "4 2018-09-02 23:30:00  09/03/2018 12:30:00 AM  38.966174 -77.096561   \n",
       "\n",
       "  Police District Number             Location  \n",
       "0                     5D  (39.1777, -77.2656)  \n",
       "1                     2D  (38.9927, -77.0971)  \n",
       "2                     2D  (38.9927, -77.0971)  \n",
       "3                     6D   (39.148, -77.2182)  \n",
       "4                     2D  (38.9662, -77.0966)  \n",
       "\n",
       "[5 rows x 30 columns]"
      ]
     },
     "execution_count": 154,
     "metadata": {},
     "output_type": "execute_result"
    }
   ],
   "source": [
    "df.head(5)"
   ]
  },
  {
   "cell_type": "markdown",
   "id": "e5036f6d-be67-42fe-8b76-e36e91f6c49a",
   "metadata": {},
   "source": [
    "# Fill Missing Crime Names with \"Other\""
   ]
  },
  {
   "cell_type": "code",
   "execution_count": 156,
   "id": "133a4b2f-24b4-42ab-928a-1f8b36c7de73",
   "metadata": {},
   "outputs": [],
   "source": [
    "df[\"Crime Name1\"] = df[\"Crime Name1\"].fillna(\"Other\")\n",
    "df[\"Crime Name2\"] = df[\"Crime Name2\"].fillna(\"Other\")\n",
    "df[\"Crime Name3\"] = df[\"Crime Name3\"].fillna(\"Other\")"
   ]
  },
  {
   "cell_type": "code",
   "execution_count": 158,
   "id": "82c4499f-f724-444a-987c-d4e0197d4100",
   "metadata": {},
   "outputs": [
    {
     "data": {
      "text/plain": [
       "Incident ID                                 201362064\n",
       "Offence Code                                     2611\n",
       "CR Number                                   220003727\n",
       "Dispatch Date / Time              2022-01-28 09:54:44\n",
       "NIBRS Code                                        26G\n",
       "Victims                                             1\n",
       "Crime Name1                                     Other\n",
       "Crime Name2                                     Other\n",
       "Crime Name3                                     Other\n",
       "Police District Name                       GERMANTOWN\n",
       "Block Address               12200 BLK  PEACH CREST DR\n",
       "City                                       GERMANTOWN\n",
       "State                                              MD\n",
       "Zip Code                                      20874.0\n",
       "Agency                                           MCPD\n",
       "Place                     Residence - Apartment/Condo\n",
       "Sector                                              N\n",
       "Beat                                              5N1\n",
       "PRA                                               447\n",
       "Address Number                                12200.0\n",
       "Street Prefix                                     NaN\n",
       "Street Name                               PEACH CREST\n",
       "Street Suffix                                     NaN\n",
       "Street Type                                        DR\n",
       "Start_Date_Time                   2022-01-28 09:54:00\n",
       "End_Date_Time                                     NaN\n",
       "Latitude                                     39.16079\n",
       "Longitude                                    -77.2513\n",
       "Police District Number                             5D\n",
       "Location                          (39.1608, -77.2513)\n",
       "Name: 2023, dtype: object"
      ]
     },
     "execution_count": 158,
     "metadata": {},
     "output_type": "execute_result"
    }
   ],
   "source": [
    "df.loc[2023]"
   ]
  },
  {
   "cell_type": "markdown",
   "id": "80e92759-cda3-4fc0-aa63-2baaa58013e7",
   "metadata": {},
   "source": [
    "# Replace State Numbers with Abbreviations"
   ]
  },
  {
   "cell_type": "code",
   "execution_count": 160,
   "id": "a4b4eaa7-e109-4cd9-8248-f4d1e8f28e6d",
   "metadata": {},
   "outputs": [
    {
     "data": {
      "text/plain": [
       "State\n",
       "MD    305874\n",
       "ID       185\n",
       "DC        22\n",
       "VA         4\n",
       "MS         2\n",
       "ME         2\n",
       "HI         1\n",
       "ND         1\n",
       "MC         1\n",
       "IL         1\n",
       "Name: count, dtype: int64"
      ]
     },
     "execution_count": 160,
     "metadata": {},
     "output_type": "execute_result"
    }
   ],
   "source": [
    "state_name  = [np.nan, 'District of Columbia', 'Hawaii' ,'Idaho', 'Illinois', 'Maine', 'Maryland', 'Michigan', 'Mississippi', 'North Dakota', 'Virginia']\n",
    "state_abb   = [np.nan, 'DC', 'HI', 'ID', 'IL', 'ME', 'MD', 'MC', 'MS', 'ND', 'VA']\n",
    "state_no    = ['0', '11', '15', '16', '17', '23', '24', '26', '28', '38', '51']\n",
    "\n",
    "\n",
    "df_states = pd.DataFrame({'State':state_name,\n",
    "                            'Abbreviation':state_abb,\n",
    "                            'No':state_no})\n",
    "df_states = df_states.set_index('State')\n",
    "\n",
    "def replace_no_with_abb(no):\n",
    "    df.replace({'State' : no}, df_states.loc[df_states['No'] == no]['Abbreviation'].values[0], inplace=True)\n",
    "\n",
    "replace_no_with_abb('15')\n",
    "replace_no_with_abb('16')\n",
    "replace_no_with_abb('17')\n",
    "replace_no_with_abb('0')\n",
    "\n",
    "df[\"State\"].value_counts()"
   ]
  },
  {
   "cell_type": "markdown",
   "id": "57222ab4-c26a-4b3a-a887-afaef0c89bb6",
   "metadata": {},
   "source": [
    "# Create New Columns for Day, Month, Year and Hour"
   ]
  },
  {
   "cell_type": "code",
   "execution_count": 162,
   "id": "6a220b6e-2575-4a31-a6ef-109f9966d3fc",
   "metadata": {},
   "outputs": [],
   "source": [
    "#df['Start_Day'] = pd.to_datetime(df[\"Start_Date_Time\"]).dt.day.convert_dtypes()\n",
    "#df['Start_Month'] = pd.to_datetime(df[\"Start_Date_Time\"]).dt.month.convert_dtypes()\n",
    "#df['Start_Year'] = pd.to_datetime(df[\"Start_Date_Time\"]).dt.year.convert_dtypes()\n",
    "#df['Start_Time'] = pd.to_datetime(df[\"Start_Date_Time\"]).dt.hour.convert_dtypes()\n",
    "#df['Dispatch_Day'] = pd.to_datetime(df[\"Dispatch Date / Time\"]).dt.day.convert_dtypes()\n",
    "#df['Dispatch_Month'] = pd.to_datetime(df[\"Dispatch Date / Time\"]).dt.month.convert_dtypes()\n",
    "#df['Dispatch_Year'] = pd.to_datetime(df[\"Dispatch Date / Time\"]).dt.year.convert_dtypes()\n",
    "#df['Dispatch_Time'] = pd.to_datetime(df[\"Dispatch Date / Time\"]).dt.hour.convert_dtypes()\n",
    "#df['End_Day'] = pd.to_datetime(df[\"End_Date_Time\"]).dt.day.convert_dtypes()\n",
    "#df['End_Month'] = pd.to_datetime(df[\"End_Date_Time\"]).dt.month.convert_dtypes()\n",
    "#df['End_Year'] = pd.to_datetime(df[\"End_Date_Time\"]).dt.year.convert_dtypes()\n",
    "#df['End_Time'] = pd.to_datetime(df[\"End_Date_Time\"]).dt.hour.convert_dtypes()\n",
    "#df"
   ]
  },
  {
   "cell_type": "code",
   "execution_count": 166,
   "id": "61a0dfbb-4a0b-4208-95fa-533087f8c181",
   "metadata": {},
   "outputs": [],
   "source": [
    "df.to_csv(\"Crime_Dataset_Cleaned.csv\", index=False)"
   ]
  },
  {
   "cell_type": "code",
   "execution_count": null,
   "id": "2cfbb935-f848-4241-a370-c23c563ee919",
   "metadata": {},
   "outputs": [],
   "source": []
  }
 ],
 "metadata": {
  "kernelspec": {
   "display_name": "Python 3 (ipykernel)",
   "language": "python",
   "name": "python3"
  },
  "language_info": {
   "codemirror_mode": {
    "name": "ipython",
    "version": 3
   },
   "file_extension": ".py",
   "mimetype": "text/x-python",
   "name": "python",
   "nbconvert_exporter": "python",
   "pygments_lexer": "ipython3",
   "version": "3.12.4"
  }
 },
 "nbformat": 4,
 "nbformat_minor": 5
}
